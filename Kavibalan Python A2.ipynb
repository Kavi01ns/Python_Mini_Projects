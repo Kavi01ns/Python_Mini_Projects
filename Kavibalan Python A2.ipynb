{
 "cells": [
  {
   "cell_type": "markdown",
   "id": "93661388-c191-478e-b0a7-b2dfe8805586",
   "metadata": {},
   "source": [
    "# List (Creation, Modification and Access): "
   ]
  },
  {
   "cell_type": "markdown",
   "id": "95e2dae8-aefe-4e82-839f-376377fc9a86",
   "metadata": {},
   "source": [
    "## 1. List Creation:"
   ]
  },
  {
   "cell_type": "code",
   "execution_count": 1,
   "id": "fed64064-05c4-4c41-94a6-90ace0f01301",
   "metadata": {},
   "outputs": [
    {
     "name": "stdout",
     "output_type": "stream",
     "text": [
      "[24, 25, 26, 27, 28]\n"
     ]
    }
   ],
   "source": [
    "age_list = [24, 25, 26, 27, 28]\n",
    "print(age_list)"
   ]
  },
  {
   "cell_type": "code",
   "execution_count": 2,
   "id": "b6033946-e697-48bf-826e-02773441a8c8",
   "metadata": {},
   "outputs": [
    {
     "name": "stdout",
     "output_type": "stream",
     "text": [
      "['kavi', 'balan', 'guru', 'dhivan', 'raj']\n"
     ]
    }
   ],
   "source": [
    "name_list = [\"kavi\",\"balan\",\"guru\",\"dhivan\",\"raj\"]\n",
    "print(name_list)"
   ]
  },
  {
   "cell_type": "markdown",
   "id": "7603dcec-43a6-4eaf-b9ae-a9078a60796d",
   "metadata": {},
   "source": [
    "## 2. List Operations / Modifications:"
   ]
  },
  {
   "cell_type": "code",
   "execution_count": 3,
   "id": "72d59998-6e5a-4dd7-abda-14d0158a9f3b",
   "metadata": {},
   "outputs": [
    {
     "name": "stdout",
     "output_type": "stream",
     "text": [
      "['kavi', 'balan', 'guru', 'dhivan', 'raj', 'Yazhini']\n"
     ]
    }
   ],
   "source": [
    "name_list.append(\"Yazhini\")\n",
    "print(name_list)"
   ]
  },
  {
   "cell_type": "code",
   "execution_count": 4,
   "id": "a2cd8afb-7ed5-4a5a-b82d-a77022949366",
   "metadata": {},
   "outputs": [
    {
     "name": "stdout",
     "output_type": "stream",
     "text": [
      "[24, 25, 30, 26, 27, 28]\n"
     ]
    }
   ],
   "source": [
    "age_list.insert(2,30)\n",
    "print(age_list)"
   ]
  },
  {
   "cell_type": "code",
   "execution_count": 5,
   "id": "2ac35dc1-0936-4ebc-b709-b09c3888673c",
   "metadata": {},
   "outputs": [
    {
     "name": "stdout",
     "output_type": "stream",
     "text": [
      "['kavi', 'balan', 'guru', 'dhivan', 'raj']\n"
     ]
    }
   ],
   "source": [
    "name_list.remove('Yazhini')\n",
    "print(name_list)"
   ]
  },
  {
   "cell_type": "code",
   "execution_count": 6,
   "id": "f4f337f5-d417-4931-b26f-f12f03b3d5be",
   "metadata": {},
   "outputs": [
    {
     "name": "stdout",
     "output_type": "stream",
     "text": [
      "[24, 25, 30, 26, 27]\n"
     ]
    }
   ],
   "source": [
    "age_list.pop()\n",
    "print(age_list)"
   ]
  },
  {
   "cell_type": "code",
   "execution_count": 7,
   "id": "94d9319c-a9ac-48af-b779-af7b664fbc8f",
   "metadata": {},
   "outputs": [
    {
     "name": "stdout",
     "output_type": "stream",
     "text": [
      "[24, 25, 30, 26, 27, 29, 30, 26]\n"
     ]
    }
   ],
   "source": [
    "age_list.extend([29, 30, 26])\n",
    "print(age_list)"
   ]
  },
  {
   "cell_type": "code",
   "execution_count": 8,
   "id": "f071c668-afac-4a33-8c3b-fb0b4906fc72",
   "metadata": {},
   "outputs": [
    {
     "name": "stdout",
     "output_type": "stream",
     "text": [
      "[30, 30, 29, 27, 26, 26, 25, 24]\n"
     ]
    }
   ],
   "source": [
    "age_list.sort(reverse=True)\n",
    "print(age_list)"
   ]
  },
  {
   "cell_type": "code",
   "execution_count": 9,
   "id": "4a251f25-72cc-486f-8413-253b71fda2f9",
   "metadata": {},
   "outputs": [
    {
     "name": "stdout",
     "output_type": "stream",
     "text": [
      "Max age: 30\n"
     ]
    }
   ],
   "source": [
    "max_age = max(age_list)\n",
    "print(\"Max age:\", max_age)"
   ]
  },
  {
   "cell_type": "code",
   "execution_count": 10,
   "id": "e5766e4c-13d0-4e2d-a195-9f0b61239912",
   "metadata": {},
   "outputs": [
    {
     "name": "stdout",
     "output_type": "stream",
     "text": [
      "Min age: 24\n"
     ]
    }
   ],
   "source": [
    "min_age = min(age_list)\n",
    "print(\"Min age:\", min_age)"
   ]
  },
  {
   "cell_type": "code",
   "execution_count": 11,
   "id": "69d297fb-6076-4990-999e-ef86c122a27d",
   "metadata": {},
   "outputs": [
    {
     "name": "stdout",
     "output_type": "stream",
     "text": [
      "Sum of all ages: 217\n"
     ]
    }
   ],
   "source": [
    "total_sum = sum(age_list)\n",
    "print(\"Sum of all ages:\", total_sum)"
   ]
  },
  {
   "cell_type": "code",
   "execution_count": 12,
   "id": "b846f760-c975-43d6-b99b-66b5b6bae526",
   "metadata": {},
   "outputs": [
    {
     "name": "stdout",
     "output_type": "stream",
     "text": [
      "[30, 30, 29, 27, 26, 26, 25, 24]\n"
     ]
    }
   ],
   "source": [
    "age_list_copy = age_list.copy()\n",
    "print(age_list_copy)"
   ]
  },
  {
   "cell_type": "code",
   "execution_count": 13,
   "id": "79e879fb-cd50-4aeb-ba66-264b047f93d7",
   "metadata": {},
   "outputs": [
    {
     "name": "stdout",
     "output_type": "stream",
     "text": [
      "[]\n"
     ]
    }
   ],
   "source": [
    "age_list_copy.clear()\n",
    "print(age_list_copy)"
   ]
  },
  {
   "cell_type": "markdown",
   "id": "164cf4ee-7681-4f07-b884-2daff2e3d718",
   "metadata": {},
   "source": [
    "## 3. Accessing List Elements:"
   ]
  },
  {
   "cell_type": "code",
   "execution_count": 14,
   "id": "3dd39b9a-137a-4aa2-a8cb-ad85610aca4c",
   "metadata": {},
   "outputs": [
    {
     "name": "stdout",
     "output_type": "stream",
     "text": [
      "first_element: kavi\n"
     ]
    }
   ],
   "source": [
    "frist_element= name_list[0]\n",
    "print(\"first_element:\",name_list[0])"
   ]
  },
  {
   "cell_type": "code",
   "execution_count": 15,
   "id": "1c990ee7-5142-4cc3-820d-3fb72c595324",
   "metadata": {},
   "outputs": [
    {
     "name": "stdout",
     "output_type": "stream",
     "text": [
      "last_element: raj\n"
     ]
    }
   ],
   "source": [
    "last_element= name_list[-1]\n",
    "print(\"last_element:\",name_list[-1])"
   ]
  },
  {
   "cell_type": "code",
   "execution_count": 16,
   "id": "350fcc58-c339-4a7b-ae2f-2a44252cfbaf",
   "metadata": {},
   "outputs": [
    {
     "name": "stdout",
     "output_type": "stream",
     "text": [
      "index_2_to_4: ['guru', 'dhivan', 'raj']\n"
     ]
    }
   ],
   "source": [
    "index_2_to_4= name_list[2:5]\n",
    "print(\"index_2_to_4:\",name_list[2:5])"
   ]
  },
  {
   "cell_type": "code",
   "execution_count": 17,
   "id": "8e36e470-0878-4867-a5fd-9c86ae0147d4",
   "metadata": {},
   "outputs": [
    {
     "name": "stdout",
     "output_type": "stream",
     "text": [
      "reverse_order: ['raj', 'dhivan', 'guru', 'balan', 'kavi']\n"
     ]
    }
   ],
   "source": [
    "reverse_order= name_list[::-1]\n",
    "print(\"reverse_order:\",name_list[::-1])"
   ]
  },
  {
   "cell_type": "code",
   "execution_count": 18,
   "id": "6835ead1-3a82-4b3b-a807-0df59db861fa",
   "metadata": {},
   "outputs": [
    {
     "name": "stdout",
     "output_type": "stream",
     "text": [
      "[1, 2, 1, 1, 3, 1, 2, 5, 9, 1]\n"
     ]
    }
   ],
   "source": [
    "list_dup = [1, 2, 1, 1, 3, 1, 2, 5, 9, 1] \n",
    "print(list_dup)"
   ]
  },
  {
   "cell_type": "code",
   "execution_count": 19,
   "id": "3aef69be-049f-4dda-aa48-947066b2a45f",
   "metadata": {},
   "outputs": [
    {
     "name": "stdout",
     "output_type": "stream",
     "text": [
      "total_of_1: 5\n"
     ]
    }
   ],
   "source": [
    "list_dup.count(1)\n",
    "print(\"total_of_1:\",list_dup.count(1))"
   ]
  },
  {
   "cell_type": "code",
   "execution_count": 21,
   "id": "a68ca4b9-95ac-4634-b2d4-f1bde9f628c0",
   "metadata": {},
   "outputs": [
    {
     "name": "stdout",
     "output_type": "stream",
     "text": [
      "len_of_list_dup: 10\n"
     ]
    }
   ],
   "source": [
    "len(list_dup)\n",
    "print(\"len_of_list_dup:\",len(list_dup))"
   ]
  },
  {
   "cell_type": "markdown",
   "id": "7719afa9-6e29-4281-9c93-eda0f852e5ad",
   "metadata": {},
   "source": [
    "# Dictionary (Creation, Modification and Access): "
   ]
  },
  {
   "cell_type": "markdown",
   "id": "e91c91c5-e790-4e22-824c-491dbe84ce8a",
   "metadata": {},
   "source": [
    "## 1. Dictionary Creation:"
   ]
  },
  {
   "cell_type": "code",
   "execution_count": 50,
   "id": "7d8308b1-249d-4af0-8044-481c55075f66",
   "metadata": {},
   "outputs": [
    {
     "name": "stdout",
     "output_type": "stream",
     "text": [
      "{'abi': 95, 'bala': 93, 'guru': 94, 'kavi': 98, 'chandru': 94}\n"
     ]
    }
   ],
   "source": [
    "student_marks = {\"abi\":95,\n",
    "                 \"bala\":93,\n",
    "                 \"guru\":94,\n",
    "                 \"kavi\":98,\n",
    "                 \"chandru\":94}\n",
    "print(student_marks)"
   ]
  },
  {
   "cell_type": "code",
   "execution_count": 8,
   "id": "c5b2a526-1ddc-4d6b-b1aa-0956b2684f2f",
   "metadata": {},
   "outputs": [
    {
     "name": "stdout",
     "output_type": "stream",
     "text": [
      "kavi_mark= 98\n"
     ]
    }
   ],
   "source": [
    "print(\"kavi_mark=\",student_marks[\"kavi\"])"
   ]
  },
  {
   "cell_type": "markdown",
   "id": "57a576fc-379a-42d1-ac3b-5829f03c55ea",
   "metadata": {},
   "source": [
    "## 2. Dictionary Modifications & Access:"
   ]
  },
  {
   "cell_type": "code",
   "execution_count": 13,
   "id": "7388a84a-87bc-4923-a2c4-ca7526103de1",
   "metadata": {},
   "outputs": [
    {
     "name": "stdout",
     "output_type": "stream",
     "text": [
      "{'abi': 95, 'bala': 93, 'guru': 94, 'kavi': 98, 'chandru': 94, 'Janani': 80}\n"
     ]
    }
   ],
   "source": [
    "student_marks[\"Janani\"]=80\n",
    "print(student_marks)"
   ]
  },
  {
   "cell_type": "code",
   "execution_count": 17,
   "id": "7b42ba63-3635-4cb1-820d-1bd5ca5826d0",
   "metadata": {},
   "outputs": [
    {
     "name": "stdout",
     "output_type": "stream",
     "text": [
      "{'abi': 82, 'bala': 93, 'guru': 94, 'kavi': 98, 'chandru': 94, 'Janani': 80}\n"
     ]
    }
   ],
   "source": [
    "student_marks.update({\"abi\": 82})\n",
    "print(student_marks)"
   ]
  },
  {
   "cell_type": "code",
   "execution_count": 18,
   "id": "ba8d2137-5d41-4d6a-a104-e6f6ac41856d",
   "metadata": {},
   "outputs": [
    {
     "name": "stdout",
     "output_type": "stream",
     "text": [
      "Keys: dict_keys(['abi', 'bala', 'guru', 'kavi', 'chandru', 'Janani'])\n"
     ]
    }
   ],
   "source": [
    "print(\"Keys:\", student_marks.keys())"
   ]
  },
  {
   "cell_type": "code",
   "execution_count": 19,
   "id": "719cdf68-0bbf-4eec-bb6e-94ea303282fd",
   "metadata": {},
   "outputs": [
    {
     "name": "stdout",
     "output_type": "stream",
     "text": [
      "Values: dict_values([82, 93, 94, 98, 94, 80])\n"
     ]
    }
   ],
   "source": [
    "print(\"Values:\", student_marks.values())"
   ]
  },
  {
   "cell_type": "code",
   "execution_count": 20,
   "id": "8186a12d-a4c4-40e2-9f38-8c895f971ccc",
   "metadata": {},
   "outputs": [
    {
     "name": "stdout",
     "output_type": "stream",
     "text": [
      "Key-Value Pairs: dict_items([('abi', 82), ('bala', 93), ('guru', 94), ('kavi', 98), ('chandru', 94), ('Janani', 80)])\n"
     ]
    }
   ],
   "source": [
    "print(\"Key-Value Pairs:\", student_marks.items())"
   ]
  },
  {
   "cell_type": "markdown",
   "id": "4860a254-ad90-47af-90cb-2b2cf0382406",
   "metadata": {},
   "source": [
    "# Sets & Frozensets:"
   ]
  },
  {
   "cell_type": "markdown",
   "id": "d4660642-54cd-462a-908a-78faf0ed1708",
   "metadata": {},
   "source": [
    "## 1. Sets: "
   ]
  },
  {
   "cell_type": "code",
   "execution_count": 24,
   "id": "df6e1216-0d17-4022-b30a-db2367e15d06",
   "metadata": {},
   "outputs": [
    {
     "name": "stdout",
     "output_type": "stream",
     "text": [
      "<class 'set'>\n",
      "{'e', 'a', 'u', 'o', 'i'}\n"
     ]
    }
   ],
   "source": [
    "my_set = set(['a','e','i','o','u','a','a','i'])\n",
    "print(type(my_set))\n",
    "print(my_set)"
   ]
  },
  {
   "cell_type": "code",
   "execution_count": 25,
   "id": "fca1d1cf-4649-4229-9e27-9398f068b98e",
   "metadata": {},
   "outputs": [
    {
     "ename": "TypeError",
     "evalue": "'set' object does not support item assignment",
     "output_type": "error",
     "traceback": [
      "\u001b[1;31m---------------------------------------------------------------------------\u001b[0m",
      "\u001b[1;31mTypeError\u001b[0m                                 Traceback (most recent call last)",
      "Cell \u001b[1;32mIn[25], line 1\u001b[0m\n\u001b[1;32m----> 1\u001b[0m my_set[\u001b[38;5;241m4\u001b[39m] \u001b[38;5;241m=\u001b[39m \u001b[38;5;124m'\u001b[39m\u001b[38;5;124ms\u001b[39m\u001b[38;5;124m'\u001b[39m\n",
      "\u001b[1;31mTypeError\u001b[0m: 'set' object does not support item assignment"
     ]
    }
   ],
   "source": [
    "my_set[4] = 's'"
   ]
  },
  {
   "cell_type": "code",
   "execution_count": null,
   "id": "25d0abc5-487e-4efd-b5e5-dbeec2b4c51b",
   "metadata": {},
   "outputs": [],
   "source": [
    "## Sets in Python are unordered collections, because you are trying to modify an element using an index, which is not allowed with sets."
   ]
  },
  {
   "cell_type": "code",
   "execution_count": 27,
   "id": "95789434-323c-4db8-bfbe-99e892ea779f",
   "metadata": {},
   "outputs": [
    {
     "name": "stdout",
     "output_type": "stream",
     "text": [
      "<class 'set'>\n",
      "{1, 3, 5, 7, 9}\n"
     ]
    }
   ],
   "source": [
    "set1 = {1, 3, 5, 7, 9}\n",
    "print(type(set1))\n",
    "print(set1)"
   ]
  },
  {
   "cell_type": "code",
   "execution_count": 28,
   "id": "c179e378-f30c-4029-a86d-f5ccebfe0e36",
   "metadata": {},
   "outputs": [
    {
     "name": "stdout",
     "output_type": "stream",
     "text": [
      "<class 'set'>\n",
      "{2, 3, 5, 8, 10}\n"
     ]
    }
   ],
   "source": [
    "set2 = {2, 3, 5, 8, 10}\n",
    "print(type(set2))\n",
    "print(set2)"
   ]
  },
  {
   "cell_type": "code",
   "execution_count": 36,
   "id": "e745d17f-f79c-4066-965e-3b2675b56686",
   "metadata": {},
   "outputs": [
    {
     "name": "stdout",
     "output_type": "stream",
     "text": [
      "union_operator: {1, 2, 3, 5, 7, 8, 9, 10}\n"
     ]
    }
   ],
   "source": [
    "union_set = set1 | set2\n",
    "print(\"union_operator:\",union_set)"
   ]
  },
  {
   "cell_type": "code",
   "execution_count": 38,
   "id": "ef2bd51c-320d-4d08-ac87-82b3d725b9ca",
   "metadata": {},
   "outputs": [
    {
     "name": "stdout",
     "output_type": "stream",
     "text": [
      "union_method; {1, 2, 3, 5, 7, 8, 9, 10}\n"
     ]
    }
   ],
   "source": [
    "union_set = set1.union(set2)\n",
    "print(\"union_method;\",union_set)"
   ]
  },
  {
   "cell_type": "code",
   "execution_count": 39,
   "id": "0cd34129-98dd-4e0a-abc9-d39f1a3d2e0d",
   "metadata": {},
   "outputs": [
    {
     "name": "stdout",
     "output_type": "stream",
     "text": [
      "intersection_set_operator: {3, 5}\n"
     ]
    }
   ],
   "source": [
    "intersection_set = set1 & set2\n",
    "print(\"intersection_set_operator:\",intersection_set)"
   ]
  },
  {
   "cell_type": "code",
   "execution_count": 40,
   "id": "269bccfc-0a1c-418a-ada9-bc5f4d38da9d",
   "metadata": {},
   "outputs": [
    {
     "name": "stdout",
     "output_type": "stream",
     "text": [
      "intersection_set_method: {3, 5}\n"
     ]
    }
   ],
   "source": [
    "intersection_set = set1.intersection(set2)\n",
    "print(\"intersection_set_method:\",intersection_set)"
   ]
  },
  {
   "cell_type": "markdown",
   "id": "0e4573a3-ddc0-4e08-9ac2-f74bf68a6671",
   "metadata": {},
   "source": [
    "# 2. Frozensets: "
   ]
  },
  {
   "cell_type": "code",
   "execution_count": 43,
   "id": "c830e4c5-1acb-4d83-840f-c871121e8a56",
   "metadata": {},
   "outputs": [
    {
     "name": "stdout",
     "output_type": "stream",
     "text": [
      "<class 'frozenset'>\n",
      "frozenset({1, 2, 3, 4, 5})\n"
     ]
    }
   ],
   "source": [
    "immutable_set = frozenset([1, 2, 3, 4, 5])\n",
    "print(type(immutable_set))\n",
    "print(immutable_set)"
   ]
  },
  {
   "cell_type": "code",
   "execution_count": 44,
   "id": "19f27140-77e2-44d0-bb8a-645517bf224b",
   "metadata": {},
   "outputs": [
    {
     "ename": "AttributeError",
     "evalue": "'frozenset' object has no attribute 'add'",
     "output_type": "error",
     "traceback": [
      "\u001b[1;31m---------------------------------------------------------------------------\u001b[0m",
      "\u001b[1;31mAttributeError\u001b[0m                            Traceback (most recent call last)",
      "Cell \u001b[1;32mIn[44], line 1\u001b[0m\n\u001b[1;32m----> 1\u001b[0m immutable_set\u001b[38;5;241m.\u001b[39madd(\u001b[38;5;241m6\u001b[39m)\n",
      "\u001b[1;31mAttributeError\u001b[0m: 'frozenset' object has no attribute 'add'"
     ]
    }
   ],
   "source": [
    "immutable_set.add(6)"
   ]
  },
  {
   "cell_type": "code",
   "execution_count": null,
   "id": "9311717e-43ac-4ac1-a6a5-5743511bcba2",
   "metadata": {},
   "outputs": [],
   "source": [
    "## Frozensets are immutable, its not allowed the add function"
   ]
  }
 ],
 "metadata": {
  "kernelspec": {
   "display_name": "Python 3 (ipykernel)",
   "language": "python",
   "name": "python3"
  },
  "language_info": {
   "codemirror_mode": {
    "name": "ipython",
    "version": 3
   },
   "file_extension": ".py",
   "mimetype": "text/x-python",
   "name": "python",
   "nbconvert_exporter": "python",
   "pygments_lexer": "ipython3",
   "version": "3.12.7"
  }
 },
 "nbformat": 4,
 "nbformat_minor": 5
}
