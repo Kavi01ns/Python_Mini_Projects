{
 "cells": [
  {
   "cell_type": "markdown",
   "id": "26b3daaf-b22b-4524-8ac3-b3fbae84aa60",
   "metadata": {},
   "source": [
    "# Python Assignment 4: For loops and Functions\n",
    "\n",
    "\n",
    "## For Loop: \n",
    "## Multiplication Table Generator\n"
   ]
  },
  {
   "cell_type": "code",
   "execution_count": 47,
   "id": "4682e163-23cc-45ba-bf48-6b9d1678c268",
   "metadata": {},
   "outputs": [
    {
     "name": "stdin",
     "output_type": "stream",
     "text": [
      "Enter the number for which you want the multiplication table:   5\n"
     ]
    },
    {
     "name": "stdout",
     "output_type": "stream",
     "text": [
      "5 x 1 = 5\n",
      "5 x 2 = 10\n",
      "5 x 3 = 15\n",
      "5 x 4 = 20\n",
      "5 x 5 = 25\n",
      "5 x 6 = 30\n",
      "5 x 7 = 35\n",
      "5 x 8 = 40\n",
      "5 x 9 = 45\n",
      "5 x 10 = 50\n"
     ]
    }
   ],
   "source": [
    "Multiplication_num = int(input(\"Enter the number for which you want the multiplication table:  \"))\n",
    "for i in range(1,11):\n",
    "    result = Multiplication_num *i\n",
    "    print(f\"{Multiplication_num} x {i} = {result}\")"
   ]
  },
  {
   "cell_type": "markdown",
   "id": "9bf79d78-3300-4e55-9642-a95faac9fdb6",
   "metadata": {},
   "source": [
    "# Functions:\n",
    "## BMI Calculator\n",
    "## Enter your height in meters"
   ]
  },
  {
   "cell_type": "code",
   "execution_count": 5,
   "id": "185456bf-397b-42e8-a737-8204d487a15b",
   "metadata": {},
   "outputs": [],
   "source": [
    "def calculate_bmi(weight, height):\n",
    "    BMI = weight / (height **2)\n",
    "    return round(BMI,2)"
   ]
  },
  {
   "cell_type": "code",
   "execution_count": 9,
   "id": "577bcc50-555a-46ca-b095-561cb3e78bcb",
   "metadata": {},
   "outputs": [
    {
     "name": "stdin",
     "output_type": "stream",
     "text": [
      "Enter your weight in kg:  58\n",
      "Enter your height in meters:  1.62\n"
     ]
    },
    {
     "name": "stdout",
     "output_type": "stream",
     "text": [
      "Your BMI is: 22.10\n"
     ]
    }
   ],
   "source": [
    "weight = float(input(\"Enter your weight in kg: \"))\n",
    "height = float(input(\"Enter your height in meters: \"))\n",
    "BMI = calculate_bmi(weight, height)\n",
    "print(f\"Your BMI is: {BMI :.2f}\")"
   ]
  },
  {
   "cell_type": "markdown",
   "id": "350dbd98-2a38-4ddc-995d-a395f9f0d207",
   "metadata": {},
   "source": [
    "## Enter your height in cm"
   ]
  },
  {
   "cell_type": "code",
   "execution_count": 7,
   "id": "12abc928-cf82-4235-8734-585110bada25",
   "metadata": {},
   "outputs": [],
   "source": [
    "def calculate_bmi(weight, height_meters):\n",
    "     return weight / (height_meters ** 2)"
   ]
  },
  {
   "cell_type": "code",
   "execution_count": 10,
   "id": "5b312a76-5478-4cc8-aef8-2b31944c0c86",
   "metadata": {},
   "outputs": [
    {
     "name": "stdin",
     "output_type": "stream",
     "text": [
      "Enter your weight in kg:  58\n",
      "Enter your height in cm:  153\n"
     ]
    },
    {
     "name": "stdout",
     "output_type": "stream",
     "text": [
      "Your BMI is: 24.78 \n"
     ]
    }
   ],
   "source": [
    "weight = float(input(\"Enter your weight in kg: \"))\n",
    "height_cm = float(input(\"Enter your height in cm: \"))\n",
    "\n",
    "'''Enter your height in cm automatically calculated in meters and Result show in meters'''\n",
    "\n",
    "height_meters = height_cm / 100\n",
    "BMI = calculate_bmi(weight, height_meters)\n",
    "print(f\"Your BMI is: {BMI:.2f} \")"
   ]
  },
  {
   "cell_type": "code",
   "execution_count": null,
   "id": "4376ee49-1604-49b2-9f7f-6c9ac153a8f9",
   "metadata": {},
   "outputs": [],
   "source": []
  }
 ],
 "metadata": {
  "kernelspec": {
   "display_name": "Python 3 (ipykernel)",
   "language": "python",
   "name": "python3"
  },
  "language_info": {
   "codemirror_mode": {
    "name": "ipython",
    "version": 3
   },
   "file_extension": ".py",
   "mimetype": "text/x-python",
   "name": "python",
   "nbconvert_exporter": "python",
   "pygments_lexer": "ipython3",
   "version": "3.12.7"
  }
 },
 "nbformat": 4,
 "nbformat_minor": 5
}
