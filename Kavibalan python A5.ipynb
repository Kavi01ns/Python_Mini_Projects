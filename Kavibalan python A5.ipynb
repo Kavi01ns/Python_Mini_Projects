{
 "cells": [
  {
   "cell_type": "markdown",
   "id": "cb3992a0-d5ad-4b8b-a4e8-effcacd35183",
   "metadata": {},
   "source": [
    "# Python Assignment 5: File Handling, Exception Handling & OOPS\n",
    "\n",
    "\n",
    "## File Handling:  \n"
   ]
  },
  {
   "cell_type": "markdown",
   "id": "b5e76763-d55b-4e39-a83f-286931f081cf",
   "metadata": {},
   "source": [
    "## 1)\tWrite:"
   ]
  },
  {
   "cell_type": "code",
   "execution_count": 9,
   "id": "2f560c41-cdc6-4f19-b733-c7194b4cf8a7",
   "metadata": {},
   "outputs": [],
   "source": [
    "with open(\"user_info.txt\",\"w\") as file:\n",
    "    file.write(\"Name : kavibalan\\n\")\n",
    "    file.write(\"Age  : 23\\n\")\n",
    "    file.write(\"Favorite color : black\\n\")"
   ]
  },
  {
   "cell_type": "markdown",
   "id": "f647228c-b072-4a2e-b5fa-c6b0475062fc",
   "metadata": {},
   "source": [
    "## 2)\tRead:"
   ]
  },
  {
   "cell_type": "code",
   "execution_count": 10,
   "id": "9cd3d46c-7c8e-442d-823f-c15af5349988",
   "metadata": {},
   "outputs": [
    {
     "name": "stdout",
     "output_type": "stream",
     "text": [
      "Name : kavibalan\n",
      "Age  : 23\n",
      "Favorite color : black\n",
      "\n"
     ]
    }
   ],
   "source": [
    "with open(\"user_info.txt\",\"r\") as file:\n",
    "    lines = file.read()\n",
    "print(lines)    "
   ]
  },
  {
   "cell_type": "markdown",
   "id": "ef7eebc8-c4c9-44b8-9cc5-1477024e2dc8",
   "metadata": {},
   "source": [
    "## 3)\tAppend:"
   ]
  },
  {
   "cell_type": "code",
   "execution_count": 34,
   "id": "4fec62bb-2aec-408e-a193-4804190f1054",
   "metadata": {},
   "outputs": [],
   "source": [
    "with open(\"user_info.txt\", \"a\") as file:\n",
    "        file.write(\"Favorite series:Game of Thrones\\n\")"
   ]
  },
  {
   "cell_type": "markdown",
   "id": "ac58cac3-9795-4c78-af8f-3c7618f53cc2",
   "metadata": {},
   "source": [
    "## 4)\tReadlines:"
   ]
  },
  {
   "cell_type": "code",
   "execution_count": 16,
   "id": "857b7882-3f53-448a-8e30-aec96c38c85a",
   "metadata": {},
   "outputs": [
    {
     "name": "stdout",
     "output_type": "stream",
     "text": [
      "['Name : kavibalan\\n', 'Age  : 23\\n', 'Favorite color : black\\n', 'Favorite series:Game of Thrones\\n']\n"
     ]
    }
   ],
   "source": [
    "file = open(\"user_info.txt\")\n",
    "lines = file.readlines()\n",
    "print(lines)  \n"
   ]
  },
  {
   "cell_type": "code",
   "execution_count": 18,
   "id": "bc689e71-3790-44b8-882d-e9b4fd6cb7a0",
   "metadata": {},
   "outputs": [
    {
     "data": {
      "text/plain": [
       "'Name : kavibalan\\n'"
      ]
     },
     "execution_count": 18,
     "metadata": {},
     "output_type": "execute_result"
    }
   ],
   "source": [
    "lines[0]"
   ]
  },
  {
   "cell_type": "code",
   "execution_count": 19,
   "id": "bb6895e3-aeea-4dbe-8387-ac054d93613c",
   "metadata": {},
   "outputs": [
    {
     "data": {
      "text/plain": [
       "'Age  : 23\\n'"
      ]
     },
     "execution_count": 19,
     "metadata": {},
     "output_type": "execute_result"
    }
   ],
   "source": [
    "lines[1]"
   ]
  },
  {
   "cell_type": "code",
   "execution_count": 20,
   "id": "7d877acf-d7e0-4e42-bf4e-561131fa1f64",
   "metadata": {},
   "outputs": [
    {
     "data": {
      "text/plain": [
       "'Favorite color : black\\n'"
      ]
     },
     "execution_count": 20,
     "metadata": {},
     "output_type": "execute_result"
    }
   ],
   "source": [
    "lines[-2]"
   ]
  },
  {
   "cell_type": "code",
   "execution_count": 21,
   "id": "e12e3ebc-209b-45eb-85b9-b0f166e5ae14",
   "metadata": {},
   "outputs": [
    {
     "data": {
      "text/plain": [
       "'Favorite series:Game of Thrones\\n'"
      ]
     },
     "execution_count": 21,
     "metadata": {},
     "output_type": "execute_result"
    }
   ],
   "source": [
    "lines[-1]"
   ]
  },
  {
   "cell_type": "code",
   "execution_count": 26,
   "id": "83bb51da-4f3a-4f60-a9de-e459bb09f083",
   "metadata": {},
   "outputs": [
    {
     "name": "stdout",
     "output_type": "stream",
     "text": [
      "Name : kavibalan\n",
      " Age  : 23\n",
      " Favorite color : black\n",
      " Favorite series:Game of Thrones\n",
      " "
     ]
    }
   ],
   "source": [
    "with open(\"user_info.txt\") as file:\n",
    "    lines = file.readlines()\n",
    "    for line in lines:\n",
    "        print(line,end=\" \")"
   ]
  },
  {
   "cell_type": "markdown",
   "id": "d73ebfff-a675-4d9b-a9db-8c2683978705",
   "metadata": {},
   "source": [
    "# Exception Handling:  "
   ]
  },
  {
   "cell_type": "code",
   "execution_count": 29,
   "id": "0ad5c491-b67f-432b-a73a-ce43b91d693d",
   "metadata": {},
   "outputs": [],
   "source": [
    "def Celsius_to_Fahrenheit():\n",
    "    try:\n",
    "        Celsius= float(input(\"Enter a temperature in Celsius :\"))\n",
    "        Fahrenheit = (Celsius * 9/5) + 32     \n",
    "    except ZeroDivisionError:\n",
    "        print(\"This was ZeroDivisionError \")\n",
    "        print(\"Error : division by zero is not allowed\")\n",
    "    except TypeError:\n",
    "        print(\"This was TypeError \")\n",
    "        print(\"Error: Arithmetic operations cannot be performed on incompatible types\")    \n",
    "    except ValueError:\n",
    "        print(\"This was ValueError \")\n",
    "        print(\"Error : input should be a numeric value\")\n",
    "    except Exception as e:\n",
    "        print(f' an unexpected error occurred : {e}')\n",
    "    else:\n",
    "        print(f\"The temperature in Fahrenheit is: {Fahrenheit}°F\")   \n",
    "    finally:\n",
    "        print(\"end of the program, regardless of whether an error occurred\")"
   ]
  },
  {
   "cell_type": "code",
   "execution_count": 30,
   "id": "e6fcace4-2cfc-4fa3-aa2f-db28b94f9a5e",
   "metadata": {},
   "outputs": [
    {
     "name": "stdin",
     "output_type": "stream",
     "text": [
      "Enter a temperature in Celsius : 25\n"
     ]
    },
    {
     "name": "stdout",
     "output_type": "stream",
     "text": [
      "The temperature in Fahrenheit is: 77.0°F\n",
      "end of the program, regardless of whether an error occurred\n"
     ]
    }
   ],
   "source": [
    "Celsius_to_Fahrenheit()"
   ]
  },
  {
   "cell_type": "code",
   "execution_count": 31,
   "id": "64882006-f2f0-4ac9-95cc-92887aaa8243",
   "metadata": {},
   "outputs": [
    {
     "name": "stdin",
     "output_type": "stream",
     "text": [
      "Enter a temperature in Celsius : abc\n"
     ]
    },
    {
     "name": "stdout",
     "output_type": "stream",
     "text": [
      "This was ValueError \n",
      "Error : input should be a numeric value\n",
      "end of the program, regardless of whether an error occurred\n"
     ]
    }
   ],
   "source": [
    "Celsius_to_Fahrenheit()"
   ]
  },
  {
   "cell_type": "markdown",
   "id": "bee0d202-7338-4afa-86d0-d6ca941bc819",
   "metadata": {},
   "source": [
    "# OOPS:  "
   ]
  },
  {
   "cell_type": "code",
   "execution_count": 1,
   "id": "83ba0f48-a757-4cf2-b334-222a908571bb",
   "metadata": {},
   "outputs": [],
   "source": [
    "class Library:\n",
    "    def __init__(self, book_title, year_published):\n",
    "        self.book_title= book_title\n",
    "        self.year_published = year_published\n",
    "        \n",
    "    def display_info (self):\n",
    "        print(\"Book details\")\n",
    "        print(f'Book_title: {self.book_title}')\n",
    "        print(f'Published_year: {self.year_published}')\n",
    "        "
   ]
  },
  {
   "cell_type": "code",
   "execution_count": 8,
   "id": "ebd30058-d917-49c6-9524-ebef155e9862",
   "metadata": {},
   "outputs": [],
   "source": [
    "book1= Library(\"The Lord of the Rings\",1954)\n",
    "book2 = Library(\"Game of Thrones\", 1996)"
   ]
  },
  {
   "cell_type": "code",
   "execution_count": 9,
   "id": "b437f72f-cb7a-4ee6-8581-887c1458fbd6",
   "metadata": {},
   "outputs": [
    {
     "name": "stdout",
     "output_type": "stream",
     "text": [
      "<class '__main__.Library'>\n"
     ]
    }
   ],
   "source": [
    "print(type(book1))"
   ]
  },
  {
   "cell_type": "code",
   "execution_count": 12,
   "id": "970acfea-8990-420b-9ca6-578a891aee22",
   "metadata": {},
   "outputs": [
    {
     "name": "stdout",
     "output_type": "stream",
     "text": [
      "Book details\n",
      "Book_title: The Lord of the Rings\n",
      "Published_year: 1954\n",
      "\n",
      "Book details\n",
      "Book_title: Game of Thrones\n",
      "Published_year: 1996\n"
     ]
    }
   ],
   "source": [
    "book1.display_info()\n",
    "print()\n",
    "book2.display_info()"
   ]
  }
 ],
 "metadata": {
  "kernelspec": {
   "display_name": "Python 3 (ipykernel)",
   "language": "python",
   "name": "python3"
  },
  "language_info": {
   "codemirror_mode": {
    "name": "ipython",
    "version": 3
   },
   "file_extension": ".py",
   "mimetype": "text/x-python",
   "name": "python",
   "nbconvert_exporter": "python",
   "pygments_lexer": "ipython3",
   "version": "3.12.7"
  }
 },
 "nbformat": 4,
 "nbformat_minor": 5
}
