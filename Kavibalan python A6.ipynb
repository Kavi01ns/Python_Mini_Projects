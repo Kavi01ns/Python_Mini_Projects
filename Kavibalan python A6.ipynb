{
 "cells": [
  {
   "cell_type": "markdown",
   "id": "2257be8c-ccb6-4a86-b680-5a09c945b12c",
   "metadata": {},
   "source": [
    "# Python Assignment 6: Array Operations using NumPy\n",
    "\n",
    "## Numpy Operations:  \n"
   ]
  },
  {
   "cell_type": "code",
   "execution_count": 1,
   "id": "f8893c68-72d4-4cd2-80db-03783ff48a11",
   "metadata": {},
   "outputs": [],
   "source": [
    "import numpy as np"
   ]
  },
  {
   "cell_type": "markdown",
   "id": "26948985-2de4-412f-8be0-4b3105404bf5",
   "metadata": {},
   "source": [
    "### 1.\tCreate NumPy Arrays:"
   ]
  },
  {
   "cell_type": "code",
   "execution_count": 13,
   "id": "a4733a36-6cb4-421f-b9df-d32fef86b72e",
   "metadata": {},
   "outputs": [
    {
     "data": {
      "text/plain": [
       "array([22.5, 25.3, 20.8, 23.4, 26.1, 24.8, 21.9])"
      ]
     },
     "execution_count": 13,
     "metadata": {},
     "output_type": "execute_result"
    }
   ],
   "source": [
    "temperatures_w1 =np.array([22.5, 25.3, 20.8, 23.4, 26.1, 24.8, 21.9])\n",
    "temperatures_w1"
   ]
  },
  {
   "cell_type": "markdown",
   "id": "729d73d0-b514-4ba5-abbd-c458301fcc82",
   "metadata": {},
   "source": [
    "### 2.\tInspection and Properties:"
   ]
  },
  {
   "cell_type": "code",
   "execution_count": 14,
   "id": "fce02bd2-b7c6-459d-be52-e51a6b212a8c",
   "metadata": {},
   "outputs": [
    {
     "name": "stdout",
     "output_type": "stream",
     "text": [
      "Shape: (7,)\n"
     ]
    }
   ],
   "source": [
    "print(\"Shape:\", temperatures_w1.shape)"
   ]
  },
  {
   "cell_type": "code",
   "execution_count": 15,
   "id": "b055ac4a-f1a3-4e18-85e2-ac8a789c204d",
   "metadata": {},
   "outputs": [
    {
     "name": "stdout",
     "output_type": "stream",
     "text": [
      "dtype: float64\n"
     ]
    }
   ],
   "source": [
    "print(\"dtype:\",temperatures_w1.dtype)"
   ]
  },
  {
   "cell_type": "code",
   "execution_count": 43,
   "id": "49105a13-1124-4c0c-8577-76307173e90f",
   "metadata": {},
   "outputs": [
    {
     "name": "stdout",
     "output_type": "stream",
     "text": [
      "size & Number of elements: 7\n"
     ]
    }
   ],
   "source": [
    "print(\"size & Number of elements:\", temperatures_w1.size)"
   ]
  },
  {
   "cell_type": "markdown",
   "id": "f6384680-42bd-42f0-8f0f-dbfa6b39a5fa",
   "metadata": {},
   "source": [
    "### 3.\tArray Operations:"
   ]
  },
  {
   "cell_type": "code",
   "execution_count": 17,
   "id": "bce78822-eabe-4c4a-b68c-5f911ef8c897",
   "metadata": {},
   "outputs": [
    {
     "data": {
      "text/plain": [
       "array([72.5 , 77.54, 69.44, 74.12, 78.98, 76.64, 71.42])"
      ]
     },
     "execution_count": 17,
     "metadata": {},
     "output_type": "execute_result"
    }
   ],
   "source": [
    "temperatures_in_Fahrenheit = (temperatures_w1 * 9/5) + 32\n",
    "temperatures_in_Fahrenheit"
   ]
  },
  {
   "cell_type": "code",
   "execution_count": 22,
   "id": "6b13aeb5-16e3-4389-9041-803039eb6600",
   "metadata": {},
   "outputs": [
    {
     "name": "stdout",
     "output_type": "stream",
     "text": [
      "Maximum temperatures of the week : 78.98\n"
     ]
    }
   ],
   "source": [
    "max_temp = np.max(temperatures_in_Fahrenheit)\n",
    "print(\"Maximum temperatures of the week :\",max_temp)"
   ]
  },
  {
   "cell_type": "code",
   "execution_count": 23,
   "id": "ebddecd3-df19-4ca0-a462-b01981d136d5",
   "metadata": {},
   "outputs": [
    {
     "name": "stdout",
     "output_type": "stream",
     "text": [
      "Minimum temperatures of the week : 69.44\n"
     ]
    }
   ],
   "source": [
    "min_temp = np.min(temperatures_in_Fahrenheit)\n",
    "print(\"Minimum temperatures of the week :\",min_temp)"
   ]
  },
  {
   "cell_type": "code",
   "execution_count": 24,
   "id": "994463f7-4b6f-45cb-9709-ff43e776a258",
   "metadata": {},
   "outputs": [
    {
     "name": "stdout",
     "output_type": "stream",
     "text": [
      "Average temperature of the week : 74.37714285714286\n"
     ]
    }
   ],
   "source": [
    "avg_temp = np.mean(temperatures_in_Fahrenheit)\n",
    "print(\"Average temperature of the week :\",avg_temp)"
   ]
  },
  {
   "cell_type": "markdown",
   "id": "4d08b7d8-9d59-43b5-a7b0-97589782769c",
   "metadata": {},
   "source": [
    "### 4.\tArray Slicing and Indexing:"
   ]
  },
  {
   "cell_type": "code",
   "execution_count": 30,
   "id": "8c7c05fa-a1ac-43c6-b96b-a03c2b88dc76",
   "metadata": {},
   "outputs": [
    {
     "name": "stdout",
     "output_type": "stream",
     "text": [
      "Temperatures for the first three days of the week: [72.5  77.54 69.44]\n"
     ]
    }
   ],
   "source": [
    "first_three_days = temperatures_in_Fahrenheit[:3]\n",
    "print(\"Temperatures for the first three days of the week:\",first_three_days)"
   ]
  },
  {
   "cell_type": "code",
   "execution_count": 37,
   "id": "b1ce7a1b-0150-404a-9299-b33d3bced18a",
   "metadata": {},
   "outputs": [
    {
     "name": "stdout",
     "output_type": "stream",
     "text": [
      "Temperatures for the weekend (last two days): [76.64 71.42]\n"
     ]
    }
   ],
   "source": [
    "last_two_days = temperatures_in_Fahrenheit[5:]\n",
    "print(\"Temperatures for the weekend (last two days):\",last_two_days)"
   ]
  },
  {
   "cell_type": "code",
   "execution_count": 38,
   "id": "46061912-3517-4fa2-b005-200fbeee733a",
   "metadata": {},
   "outputs": [
    {
     "name": "stdout",
     "output_type": "stream",
     "text": [
      "Temperatures for the middle three days of the week: [77.54 69.44 74.12]\n"
     ]
    }
   ],
   "source": [
    "middle_three_days = temperatures_in_Fahrenheit[1:-3]\n",
    "print(\"Temperatures for the middle three days of the week:\",middle_three_days)"
   ]
  },
  {
   "cell_type": "markdown",
   "id": "d2b52ee6-5b44-4a59-986f-08b589807c66",
   "metadata": {},
   "source": [
    "### 5.\tCreate a 2D Array:"
   ]
  },
  {
   "cell_type": "code",
   "execution_count": 42,
   "id": "afc8dd79-4121-48de-a5f7-28f5a64185d6",
   "metadata": {},
   "outputs": [
    {
     "data": {
      "text/plain": [
       "array([[22.5, 25.3, 20.8, 23.4, 26.1, 24.8, 21.9],\n",
       "       [19.2, 22.5, 21.3, 24. , 23.5, 22.8, 20.1]])"
      ]
     },
     "execution_count": 42,
     "metadata": {},
     "output_type": "execute_result"
    }
   ],
   "source": [
    "temperatures = np.array([[22.5, 25.3, 20.8, 23.4, 26.1, 24.8, 21.9],\n",
    "                         [19.2, 22.5, 21.3, 24.0, 23.5, 22.8, 20.1]])\n",
    "temperatures"
   ]
  },
  {
   "cell_type": "markdown",
   "id": "8488f122-c7d1-4511-b3b0-698cead66ebe",
   "metadata": {},
   "source": [
    "### 6.\tInspect and Slice the 2D Array:"
   ]
  },
  {
   "cell_type": "code",
   "execution_count": 44,
   "id": "c6010f63-ba7f-476c-b41d-b779ecaa2d9f",
   "metadata": {},
   "outputs": [
    {
     "name": "stdout",
     "output_type": "stream",
     "text": [
      "Shape: (2, 7)\n"
     ]
    }
   ],
   "source": [
    "print(\"Shape:\", temperatures.shape)"
   ]
  },
  {
   "cell_type": "code",
   "execution_count": 45,
   "id": "267fea23-7deb-4879-aace-197ea774c08f",
   "metadata": {},
   "outputs": [
    {
     "name": "stdout",
     "output_type": "stream",
     "text": [
      "dtype: float64\n"
     ]
    }
   ],
   "source": [
    "print(\"dtype:\",temperatures.dtype)"
   ]
  },
  {
   "cell_type": "code",
   "execution_count": 46,
   "id": "0a7bf833-0b01-44b4-a5cd-7bd08ad62b96",
   "metadata": {},
   "outputs": [
    {
     "name": "stdout",
     "output_type": "stream",
     "text": [
      "size & Total number of elements: 14\n"
     ]
    }
   ],
   "source": [
    "print(\"size & Total number of elements:\", temperatures.size)"
   ]
  },
  {
   "cell_type": "code",
   "execution_count": 52,
   "id": "de7108b6-bd98-4699-a042-becac859b362",
   "metadata": {},
   "outputs": [
    {
     "name": "stdout",
     "output_type": "stream",
     "text": [
      "The temperatures for the first week (Row 1): [22.5 25.3 20.8 23.4 26.1 24.8 21.9]\n"
     ]
    }
   ],
   "source": [
    "first_week =temperatures[0]\n",
    "print(\"The temperatures for the first week (Row 1):\",first_week)"
   ]
  },
  {
   "cell_type": "code",
   "execution_count": 53,
   "id": "87742a3b-2bde-4fd3-9517-706145d5f2d1",
   "metadata": {},
   "outputs": [
    {
     "name": "stdout",
     "output_type": "stream",
     "text": [
      "The temperatures for the second week (Row 2): [19.2 22.5 21.3 24.  23.5 22.8 20.1]\n"
     ]
    }
   ],
   "source": [
    "second_week =temperatures[1]\n",
    "print(\"The temperatures for the second week (Row 2):\",second_week)"
   ]
  },
  {
   "cell_type": "code",
   "execution_count": 57,
   "id": "79340087-db2c-41ca-b1da-5fe0f902a88f",
   "metadata": {},
   "outputs": [
    {
     "name": "stdout",
     "output_type": "stream",
     "text": [
      "The temperatures for the first three days of each week:\n",
      " [[22.5 25.3 20.8]\n",
      " [19.2 22.5 21.3]]\n"
     ]
    }
   ],
   "source": [
    "first_three_days =temperatures[:, :3]\n",
    "print(\"The temperatures for the first three days of each week:\\n\",first_three_days)"
   ]
  },
  {
   "cell_type": "code",
   "execution_count": 58,
   "id": "1696082d-91f0-476a-8d6e-ee761f98d0bd",
   "metadata": {},
   "outputs": [
    {
     "name": "stdout",
     "output_type": "stream",
     "text": [
      "The temperatures for the weekends (last two days) of both weeks:\n",
      " [[24.8 21.9]\n",
      " [22.8 20.1]]\n"
     ]
    }
   ],
   "source": [
    "weekends =temperatures [:, -2:]\n",
    "print(\"The temperatures for the weekends (last two days) of both weeks:\\n\",weekends)"
   ]
  }
 ],
 "metadata": {
  "kernelspec": {
   "display_name": "Python 3 (ipykernel)",
   "language": "python",
   "name": "python3"
  },
  "language_info": {
   "codemirror_mode": {
    "name": "ipython",
    "version": 3
   },
   "file_extension": ".py",
   "mimetype": "text/x-python",
   "name": "python",
   "nbconvert_exporter": "python",
   "pygments_lexer": "ipython3",
   "version": "3.12.7"
  }
 },
 "nbformat": 4,
 "nbformat_minor": 5
}
