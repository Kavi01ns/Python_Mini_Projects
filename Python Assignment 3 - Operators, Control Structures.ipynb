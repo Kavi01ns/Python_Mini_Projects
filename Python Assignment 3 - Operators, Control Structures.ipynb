{
 "cells": [
  {
   "cell_type": "markdown",
   "id": "f806db3a-9d8e-4ec5-97cd-716dca692b9e",
   "metadata": {},
   "source": [
    "# Python Assignment 3: Operators & Control Structures - IF, ELIF, ELSE, WHILE loop\n",
    "\n"
   ]
  },
  {
   "cell_type": "markdown",
   "id": "50b1152f-28fd-44e0-a522-859bced9029c",
   "metadata": {},
   "source": [
    "## Operators & Conditional Statements :\n",
    "## (IF, ELIF, ELSE)\n"
   ]
  },
  {
   "cell_type": "code",
   "execution_count": 7,
   "id": "4dad802c-fb66-4d21-863a-9ff8be967a16",
   "metadata": {},
   "outputs": [
    {
     "name": "stdin",
     "output_type": "stream",
     "text": [
      "Enter your score (0 to 10):  5\n"
     ]
    },
    {
     "name": "stdout",
     "output_type": "stream",
     "text": [
      "Your performance_category is Average\n",
      "Your score 5.0 Good effort! Keep practicing, there's room for improvement.\n"
     ]
    }
   ],
   "source": [
    "score = float(input(\"Enter your score (0 to 10): \"))\n",
    "if score > 7:\n",
    "    print(\"Your performance_category is Above Average\")\n",
    "    print(f\"Your score {score} Great job! Keep up the excellent work.\")\n",
    "elif 4 <= score <= 7:\n",
    "    print(\"Your performance_category is Average\")\n",
    "    print(f\"Your score {score} Good effort! Keep practicing, there's room for improvement.\")\n",
    "else:\n",
    "    print(\"Your performance_category is Below Average\")\n",
    "    print(f\"Your score {score} Need to improve your performance. Consistent practice will lead to better results.\")"
   ]
  },
  {
   "cell_type": "markdown",
   "id": "b19b1da9-8786-4b96-9545-c2396e459adb",
   "metadata": {},
   "source": [
    "## While loop & Control Statements :\n",
    "## (else, break, continue, pass)\n",
    "\n",
    "## Number Guessing Game\n"
   ]
  },
  {
   "cell_type": "code",
   "execution_count": null,
   "id": "6353fda4-3c8d-4e56-aa72-a58f8a9df856",
   "metadata": {},
   "outputs": [],
   "source": [
    "import random\n",
    "#Generate random number between 1 and 10\n",
    "secret_number = random.randint(1, 10)\n",
    "attempts = 3\n",
    "while attempts > 0:\n",
    "    guess = int(input(\"Guess the number (between 1 and 10): \"))\n",
    "    if guess < 1 or guess > 10:\n",
    "        print(\"Your guess is out of range. Please guess a number between 1 and 10.\")\n",
    "        continue\n",
    "    if guess == secret_number:\n",
    "        print(\"Congratulations! You guessed the correct number.\")\n",
    "        break \n",
    "    elif guess > secret_number:\n",
    "        print(\"Too high. Try again.\")\n",
    "    else:\n",
    "        print(\"Too low. Try again.\")\n",
    "    attempts -= 1\n",
    "else:\n",
    "    print(f\"Better luck next time! The correct number was {secret_number}.\")"
   ]
  },
  {
   "cell_type": "code",
   "execution_count": null,
   "id": "40e4fe3b-c1c0-430b-94e2-af44d4b1f807",
   "metadata": {},
   "outputs": [],
   "source": []
  }
 ],
 "metadata": {
  "kernelspec": {
   "display_name": "Python 3 (ipykernel)",
   "language": "python",
   "name": "python3"
  },
  "language_info": {
   "codemirror_mode": {
    "name": "ipython",
    "version": 3
   },
   "file_extension": ".py",
   "mimetype": "text/x-python",
   "name": "python",
   "nbconvert_exporter": "python",
   "pygments_lexer": "ipython3",
   "version": "3.12.7"
  }
 },
 "nbformat": 4,
 "nbformat_minor": 5
}
