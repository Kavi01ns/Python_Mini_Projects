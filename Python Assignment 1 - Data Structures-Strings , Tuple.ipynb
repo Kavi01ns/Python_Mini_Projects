{
 "cells": [
  {
   "cell_type": "markdown",
   "id": "d157f51d-52d8-4c5a-bbb9-c475f22c2f04",
   "metadata": {},
   "source": [
    "# Strings "
   ]
  },
  {
   "cell_type": "markdown",
   "id": "f4be4711-c9a0-497a-bfc3-72e25ba0dbbb",
   "metadata": {},
   "source": [
    "## 1. String Concatenation:"
   ]
  },
  {
   "cell_type": "code",
   "execution_count": 1,
   "id": "48fcef97-f294-43e1-9275-a70fbd0ba0b1",
   "metadata": {},
   "outputs": [],
   "source": [
    "\n",
    "Name1 = \"Hello \""
   ]
  },
  {
   "cell_type": "code",
   "execution_count": 2,
   "id": "12aaf519-87a1-4dc9-b918-f702858b0d85",
   "metadata": {},
   "outputs": [
    {
     "name": "stdin",
     "output_type": "stream",
     "text": [
      "Enter your name:  Kavi\n"
     ]
    },
    {
     "name": "stdout",
     "output_type": "stream",
     "text": [
      "Hello Kavi\n"
     ]
    }
   ],
   "source": [
    "\n",
    "Name2 = input(\"Enter your name: \")\n",
    "result = Name1 + Name2\n",
    "print(result)"
   ]
  },
  {
   "cell_type": "code",
   "execution_count": 3,
   "id": "173caa20-e4a1-4cb1-a39c-04212a699573",
   "metadata": {},
   "outputs": [
    {
     "name": "stdout",
     "output_type": "stream",
     "text": [
      "Hello Kavi, welcome to Python programming\n"
     ]
    }
   ],
   "source": [
    "Name3 = \", welcome to Python programming\"\n",
    "result = Name1 + Name2 + Name3\n",
    "print(result)\n"
   ]
  },
  {
   "cell_type": "markdown",
   "id": "c53a2b28-90eb-4187-9248-873b1080635f",
   "metadata": {},
   "source": [
    "### 2. String Slicing and Indexing:"
   ]
  },
  {
   "cell_type": "code",
   "execution_count": 6,
   "id": "ce5b30cb-58aa-4753-b511-07a982773e2b",
   "metadata": {},
   "outputs": [
    {
     "name": "stdout",
     "output_type": "stream",
     "text": [
      "first character: H\n"
     ]
    }
   ],
   "source": [
    "print(\"first character:\",result[0])"
   ]
  },
  {
   "cell_type": "code",
   "execution_count": 7,
   "id": "eac45098-185f-470f-b836-541eb538c67f",
   "metadata": {},
   "outputs": [
    {
     "name": "stdout",
     "output_type": "stream",
     "text": [
      "last  character: g\n"
     ]
    }
   ],
   "source": [
    "print(\"last  character:\",result[-1])"
   ]
  },
  {
   "cell_type": "code",
   "execution_count": 8,
   "id": "61783388-7fbc-40e9-a23f-f10a170cb299",
   "metadata": {},
   "outputs": [
    {
     "name": "stdout",
     "output_type": "stream",
     "text": [
      "first 5 characters : Hello\n"
     ]
    }
   ],
   "source": [
    "print(\"first 5 characters :\",result[:5])"
   ]
  },
  {
   "cell_type": "code",
   "execution_count": 10,
   "id": "4ab8e341-c823-4166-8ca7-e153fcb546c8",
   "metadata": {},
   "outputs": [
    {
     "name": "stdout",
     "output_type": "stream",
     "text": [
      "last 11 characters : programming\n"
     ]
    }
   ],
   "source": [
    "print(\"last 11 characters :\",result[-11:])"
   ]
  },
  {
   "cell_type": "code",
   "execution_count": 12,
   "id": "3e3e9ac6-4688-452e-ba38-e4a89312da8b",
   "metadata": {},
   "outputs": [
    {
     "name": "stdout",
     "output_type": "stream",
     "text": [
      "Reverse : gnimmargorp nohtyP ot emoclew ,ivaK olleH\n"
     ]
    }
   ],
   "source": [
    "print(\"Reverse :\",result[::-1])"
   ]
  },
  {
   "cell_type": "code",
   "execution_count": 13,
   "id": "463bf994-d015-4b80-abca-9eeffad98df5",
   "metadata": {},
   "outputs": [
    {
     "name": "stdout",
     "output_type": "stream",
     "text": [
      "print the word  : Python \n"
     ]
    }
   ],
   "source": [
    "print(\"print the word  :\",result[23:30])"
   ]
  },
  {
   "cell_type": "markdown",
   "id": "a1501f86-caa1-49b1-9c4d-6f5201334936",
   "metadata": {},
   "source": [
    "# 3. String Methods:"
   ]
  },
  {
   "cell_type": "code",
   "execution_count": 3,
   "id": "aaaace58-3ba8-4d50-aa84-faf7f052ae43",
   "metadata": {},
   "outputs": [
    {
     "data": {
      "text/plain": [
       "'Python beginner tutorial'"
      ]
     },
     "execution_count": 3,
     "metadata": {},
     "output_type": "execute_result"
    }
   ],
   "source": [
    "strM = 'Python beginner tutorial'\n",
    "strM"
   ]
  },
  {
   "cell_type": "code",
   "execution_count": 13,
   "id": "7ea3a349-dff1-4ce6-80dd-890f3c3d36a4",
   "metadata": {},
   "outputs": [
    {
     "name": "stdout",
     "output_type": "stream",
     "text": [
      "uppercase : PYTHON BEGINNER TUTORIAL\n"
     ]
    }
   ],
   "source": [
    "strM.upper()\n",
    "print('uppercase :' ,strM.upper())"
   ]
  },
  {
   "cell_type": "code",
   "execution_count": 14,
   "id": "95ba98e0-1221-4eb9-a266-c3fe29d021b8",
   "metadata": {},
   "outputs": [
    {
     "name": "stdout",
     "output_type": "stream",
     "text": [
      "lowercase : python beginner tutorial\n"
     ]
    }
   ],
   "source": [
    "strM.lower()\n",
    "print('lowercase :' ,strM.lower())"
   ]
  },
  {
   "cell_type": "code",
   "execution_count": 15,
   "id": "23d37181-0476-4600-af5e-1b4fca2b590b",
   "metadata": {},
   "outputs": [
    {
     "name": "stdout",
     "output_type": "stream",
     "text": [
      "Capitalized : Python beginner tutorial\n"
     ]
    }
   ],
   "source": [
    "strM.capitalize()\n",
    "print('Capitalized :' , strM.capitalize())"
   ]
  },
  {
   "cell_type": "code",
   "execution_count": 17,
   "id": "9ca790ac-ceb4-40c3-84b0-deaabe655d4c",
   "metadata": {},
   "outputs": [
    {
     "name": "stdout",
     "output_type": "stream",
     "text": [
      "Total_count_of_t : 3\n"
     ]
    }
   ],
   "source": [
    "strM.count('t')\n",
    "print('Total_count_of_t :', strM.count('t') )"
   ]
  },
  {
   "cell_type": "code",
   "execution_count": 20,
   "id": "1aecbbd2-bd52-41c9-a207-4f9a565ecd41",
   "metadata": {},
   "outputs": [
    {
     "name": "stdout",
     "output_type": "stream",
     "text": [
      "Replaced:  Machine Learning beginner tutorial\n"
     ]
    }
   ],
   "source": [
    "strM.replace('Python','Machine Learning')\n",
    "print('Replaced: ', strM.replace('Python','Machine Learning') )"
   ]
  },
  {
   "cell_type": "markdown",
   "id": "51ef61b3-08e9-4ae8-844d-a86b5fb64574",
   "metadata": {},
   "source": [
    "# 4.Tuples:"
   ]
  },
  {
   "cell_type": "code",
   "execution_count": 26,
   "id": "05680c26-14c8-4d56-acaf-6da9efc37e93",
   "metadata": {},
   "outputs": [
    {
     "name": "stdout",
     "output_type": "stream",
     "text": [
      "<class 'tuple'>\n"
     ]
    }
   ],
   "source": [
    "Tuple1 = (10,20,30)\n",
    "print (type(Tuple1))"
   ]
  },
  {
   "cell_type": "code",
   "execution_count": 27,
   "id": "1a71df04-c4e0-46dd-bbf8-4b8265be4311",
   "metadata": {},
   "outputs": [
    {
     "name": "stdout",
     "output_type": "stream",
     "text": [
      "<class 'tuple'>\n"
     ]
    }
   ],
   "source": [
    "Tuple2 = (40,50,60)\n",
    "print (type(Tuple2))"
   ]
  },
  {
   "cell_type": "code",
   "execution_count": 29,
   "id": "0f798db0-aef1-4daf-9d45-d12908d85f5c",
   "metadata": {},
   "outputs": [
    {
     "name": "stdout",
     "output_type": "stream",
     "text": [
      "(10, 20, 30, 40, 50, 60)\n"
     ]
    }
   ],
   "source": [
    "t_combine = Tuple1+Tuple2\n",
    "print(t_combine)"
   ]
  },
  {
   "cell_type": "code",
   "execution_count": 34,
   "id": "b5640be3-c466-49d9-9f41-dd56ffe76014",
   "metadata": {},
   "outputs": [
    {
     "name": "stdout",
     "output_type": "stream",
     "text": [
      "Repeat 3 times (10, 20, 30, 40, 50, 60, 10, 20, 30, 40, 50, 60, 10, 20, 30, 40, 50, 60)\n"
     ]
    }
   ],
   "source": [
    "t_combine*3\n",
    "print('Repeat 3 times', t_combine*3)"
   ]
  },
  {
   "cell_type": "code",
   "execution_count": 35,
   "id": "e804fb3f-67c9-41ae-9e89-80b5d86cd6f1",
   "metadata": {},
   "outputs": [
    {
     "name": "stdout",
     "output_type": "stream",
     "text": [
      "3rd Element: 30\n"
     ]
    }
   ],
   "source": [
    "t_combine[2]\n",
    "print(\"3rd Element:\",t_combine[2])"
   ]
  },
  {
   "cell_type": "code",
   "execution_count": 38,
   "id": "c7af9d61-42c6-4e17-b6a0-f5d063ba4ad8",
   "metadata": {},
   "outputs": [
    {
     "name": "stdout",
     "output_type": "stream",
     "text": [
      "First three elements : (10, 20, 30)\n"
     ]
    }
   ],
   "source": [
    "t_combine[0:-3]\n",
    "print(\"First three elements :\",t_combine[0:-3])"
   ]
  },
  {
   "cell_type": "code",
   "execution_count": 41,
   "id": "62920a3d-7d91-452d-962b-496662625770",
   "metadata": {},
   "outputs": [
    {
     "name": "stdout",
     "output_type": "stream",
     "text": [
      "last three elements : (40, 50, 60)\n"
     ]
    }
   ],
   "source": [
    "t_combine[-3:]\n",
    "print(\"last three elements :\",t_combine[-3:])\n"
   ]
  },
  {
   "cell_type": "code",
   "execution_count": null,
   "id": "69f9bc76-825d-4d61-aa75-cae141bd65b9",
   "metadata": {},
   "outputs": [],
   "source": []
  }
 ],
 "metadata": {
  "kernelspec": {
   "display_name": "Python 3 (ipykernel)",
   "language": "python",
   "name": "python3"
  },
  "language_info": {
   "codemirror_mode": {
    "name": "ipython",
    "version": 3
   },
   "file_extension": ".py",
   "mimetype": "text/x-python",
   "name": "python",
   "nbconvert_exporter": "python",
   "pygments_lexer": "ipython3",
   "version": "3.12.7"
  }
 },
 "nbformat": 4,
 "nbformat_minor": 5
}
